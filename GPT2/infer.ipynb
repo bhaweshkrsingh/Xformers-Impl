{
 "cells": [
  {
   "cell_type": "code",
   "execution_count": null,
   "id": "75f281e2-8245-413a-a6c0-73b28279ef84",
   "metadata": {},
   "outputs": [],
   "source": [
    "#!wget https://s3.amazonaws.com/opennmt-models/en-de-model.pt\n",
    "import torch\n",
    "\n",
    "model, SRC, TGT = torch.load(\"modelname.pt\")\n",
    "\n",
    "model.eval()\n",
    "sent = \"▁The ▁log ▁file ▁can ▁be ▁sent ▁secret ly ▁with ▁email ▁or ▁FTP ▁to ▁a ▁specified ▁receiver\".split()\n",
    "src = torch.LongTensor([[SRC.stoi[w] for w in sent]])\n",
    "src = Variable(src)\n",
    "src_mask = (src != SRC.stoi[\"<blank>\"]).unsqueeze(-2)\n",
    "#out = greedy_decode(model, src, src_mask, max_len=60, start_symbol=TGT.stoi[\"<s>\"])\n",
    "#greedy_decode(model, input, tokenizer, max_len, device):\n",
    "out = greedy_decode(model, src, src_mask, max_len=20, \"cpu\"):\n",
    "print(\"Translation:\", end=\"\\t\")\n",
    "trans = \"<s> \"\n",
    "for i in range(1, out.size(1)):\n",
    "    sym = TGT.itos[out[0, i]]\n",
    "    if sym == \"</s>\": break\n",
    "    trans += sym + \" \"\n",
    "print(trans)\n"
   ]
  }
 ],
 "metadata": {
  "kernelspec": {
   "display_name": "Python 3 (ipykernel)",
   "language": "python",
   "name": "python3"
  },
  "language_info": {
   "codemirror_mode": {
    "name": "ipython",
    "version": 3
   },
   "file_extension": ".py",
   "mimetype": "text/x-python",
   "name": "python",
   "nbconvert_exporter": "python",
   "pygments_lexer": "ipython3",
   "version": "3.11.7"
  }
 },
 "nbformat": 4,
 "nbformat_minor": 5
}
